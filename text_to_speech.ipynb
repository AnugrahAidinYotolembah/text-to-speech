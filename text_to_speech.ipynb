{
  "nbformat": 4,
  "nbformat_minor": 0,
  "metadata": {
    "colab": {
      "provenance": [],
      "authorship_tag": "ABX9TyO+0z+RwMbpR2u3BkBwT5us",
      "include_colab_link": true
    },
    "kernelspec": {
      "name": "python3",
      "display_name": "Python 3"
    },
    "language_info": {
      "name": "python"
    }
  },
  "cells": [
    {
      "cell_type": "markdown",
      "metadata": {
        "id": "view-in-github",
        "colab_type": "text"
      },
      "source": [
        "<a href=\"https://colab.research.google.com/github/AnugrahAidinYotolembah/text-to-speech/blob/main/text_to_speech.ipynb\" target=\"_parent\"><img src=\"https://colab.research.google.com/assets/colab-badge.svg\" alt=\"Open In Colab\"/></a>"
      ]
    },
    {
      "cell_type": "markdown",
      "source": [
        "# A. Library"
      ],
      "metadata": {
        "id": "PI_2BKFcMKtZ"
      }
    },
    {
      "cell_type": "code",
      "execution_count": 22,
      "metadata": {
        "colab": {
          "base_uri": "https://localhost:8080/"
        },
        "id": "5LfWWuz1IiQx",
        "outputId": "e4c33c65-a1d7-4a65-eefc-78e76aa3a6eb"
      },
      "outputs": [
        {
          "output_type": "stream",
          "name": "stderr",
          "text": [
            "[nltk_data] Downloading package stopwords to /root/nltk_data...\n",
            "[nltk_data]   Package stopwords is already up-to-date!\n",
            "[nltk_data] Downloading package punkt to /root/nltk_data...\n",
            "[nltk_data]   Package punkt is already up-to-date!\n"
          ]
        },
        {
          "output_type": "execute_result",
          "data": {
            "text/plain": [
              "True"
            ]
          },
          "metadata": {},
          "execution_count": 22
        }
      ],
      "source": [
        "from gtts import gTTS\n",
        "import os\n",
        "import nltk\n",
        "from nltk.corpus import stopwords\n",
        "import IPython.display as ipd\n",
        "from nltk.tokenize import word_tokenize\n",
        "\n",
        "nltk.download('stopwords')\n",
        "nltk.download('punkt')"
      ]
    },
    {
      "cell_type": "markdown",
      "source": [
        "# B. preprocessing data"
      ],
      "metadata": {
        "id": "VA4IbB1tMTz8"
      }
    },
    {
      "cell_type": "markdown",
      "source": [
        "## 1. memakai library natural language preprocessing yaitu nltk stopword"
      ],
      "metadata": {
        "id": "8Nm8VtuiMi8b"
      }
    },
    {
      "cell_type": "code",
      "source": [
        "def preprocessing_text(text):\n",
        "  tokens = word_tokenize(text)\n",
        "  stop_words = set(stopwords.words('english'))\n",
        "\n",
        "  preprocessed_text = ' '.join(tokens)\n",
        "\n",
        "  return preprocessed_text"
      ],
      "metadata": {
        "id": "qsw3zzqzI7_l"
      },
      "execution_count": 9,
      "outputs": []
    },
    {
      "cell_type": "markdown",
      "source": [
        "## konvert text ke suara menggunakan library google (gTTS)"
      ],
      "metadata": {
        "id": "T7xijs2bMmUk"
      }
    },
    {
      "cell_type": "code",
      "source": [
        "def text_to_speech(text, language='en', output_file='output1.mp3'):\n",
        "    # Lakukan preprocessing teks sebelum diubah menjadi suara\n",
        "    preprocessed_text = preprocessing_text(text)\n",
        "\n",
        "    # Konversi teks yang sudah diproses menjadi suara\n",
        "    tts = gTTS(text=preprocessed_text, lang=language, slow=False)\n",
        "    tts.save(output_file)\n",
        "\n",
        "    # Memutar file audio pada Windows\n",
        "    os.system('start ' + output_file)\n",
        "\n",
        "    return output_file"
      ],
      "metadata": {
        "id": "i0QD4CA6JX3M"
      },
      "execution_count": 18,
      "outputs": []
    },
    {
      "cell_type": "markdown",
      "source": [
        "## C. menghitung akurasi"
      ],
      "metadata": {
        "id": "IGlP13ZhM1XC"
      }
    },
    {
      "cell_type": "code",
      "source": [
        "def calculate_accuracy(original_text, generated_text):\n",
        "    original_audio_length = len(original_text)\n",
        "    generated_audio_length = len(generated_text)\n",
        "\n",
        "    accuracy = min(1, generated_audio_length / original_audio_length) * 100\n",
        "    return accuracy"
      ],
      "metadata": {
        "id": "rL8ia8yLK_vU"
      },
      "execution_count": 19,
      "outputs": []
    },
    {
      "cell_type": "markdown",
      "source": [
        "## menampilkan hasil konvert text ke suara dan hasil akurasi"
      ],
      "metadata": {
        "id": "3osEjsCaM3xB"
      }
    },
    {
      "cell_type": "code",
      "source": [
        "if __name__ == \"__main__\":\n",
        "    input_text = input(\"Masukkan teks yang ingin diubah ke suara: \")\n",
        "    generated_audio_file = text_to_speech(input_text)\n",
        "\n",
        "    # Mengukur akurasi\n",
        "    accuracy = calculate_accuracy(input_text, generated_audio_file)\n",
        "    print(f\"Akurasi: {accuracy:.2f}%\")"
      ],
      "metadata": {
        "colab": {
          "base_uri": "https://localhost:8080/"
        },
        "id": "WJSnZkuuLZia",
        "outputId": "26a3d03c-3aeb-48e4-e54d-d791859de11d"
      },
      "execution_count": 21,
      "outputs": [
        {
          "output_type": "stream",
          "name": "stdout",
          "text": [
            "Masukkan teks yang ingin diubah ke suara: didi goes to jakarta\n",
            "Akurasi: 55.00%\n"
          ]
        }
      ]
    },
    {
      "cell_type": "code",
      "source": [
        "# playing audio\n",
        "ipd.Audio(generated_audio_file)"
      ],
      "metadata": {
        "colab": {
          "base_uri": "https://localhost:8080/",
          "height": 75
        },
        "id": "y2QJrrJULbeD",
        "outputId": "fda4c310-7a2f-43b0-f002-66c7a0a8a4c9"
      },
      "execution_count": 23,
      "outputs": [
        {
          "output_type": "execute_result",
          "data": {
            "text/plain": [
              "<IPython.lib.display.Audio object>"
            ],
            "text/html": [
              "\n",
              "                <audio  controls=\"controls\" >\n",
              "                    <source src=\"data:audio/mpeg;base64,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\" type=\"audio/mpeg\" />\n",
              "                    Your browser does not support the audio element.\n",
              "                </audio>\n",
              "              "
            ]
          },
          "metadata": {},
          "execution_count": 23
        }
      ]
    },
    {
      "cell_type": "code",
      "source": [
        "!pip install gtts\n"
      ],
      "metadata": {
        "colab": {
          "base_uri": "https://localhost:8080/"
        },
        "id": "6IRmc3vAIvbo",
        "outputId": "28a7463c-1935-4372-d4b9-79c685936593"
      },
      "execution_count": 2,
      "outputs": [
        {
          "output_type": "stream",
          "name": "stdout",
          "text": [
            "Collecting gtts\n",
            "  Downloading gTTS-2.4.0-py3-none-any.whl (29 kB)\n",
            "Requirement already satisfied: requests<3,>=2.27 in /usr/local/lib/python3.10/dist-packages (from gtts) (2.31.0)\n",
            "Requirement already satisfied: click<8.2,>=7.1 in /usr/local/lib/python3.10/dist-packages (from gtts) (8.1.7)\n",
            "Requirement already satisfied: charset-normalizer<4,>=2 in /usr/local/lib/python3.10/dist-packages (from requests<3,>=2.27->gtts) (3.3.2)\n",
            "Requirement already satisfied: idna<4,>=2.5 in /usr/local/lib/python3.10/dist-packages (from requests<3,>=2.27->gtts) (3.6)\n",
            "Requirement already satisfied: urllib3<3,>=1.21.1 in /usr/local/lib/python3.10/dist-packages (from requests<3,>=2.27->gtts) (2.0.7)\n",
            "Requirement already satisfied: certifi>=2017.4.17 in /usr/local/lib/python3.10/dist-packages (from requests<3,>=2.27->gtts) (2023.11.17)\n",
            "Installing collected packages: gtts\n",
            "Successfully installed gtts-2.4.0\n"
          ]
        }
      ]
    }
  ]
}